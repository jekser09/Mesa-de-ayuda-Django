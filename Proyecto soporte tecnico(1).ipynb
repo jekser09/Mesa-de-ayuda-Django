{
 "cells": [
  {
   "attachments": {},
   "cell_type": "markdown",
   "id": "6571489e",
   "metadata": {},
   "source": [
    "# MODULO SOPORTE TECNICO"
   ]
  },
  {
   "cell_type": "code",
   "execution_count": 6,
   "id": "569d2e43",
   "metadata": {},
   "outputs": [
    {
     "name": "stdout",
     "output_type": "stream",
     "text": [
      "Por favor ingresa tu usuario: Administrador\n",
      "Ingresa tu contraseña: contraseña1\n",
      "Bienvenido, Administrador\n"
     ]
    }
   ],
   "source": [
    "# Crear un diccionario de usuarios y contraseñas (esto se puede hacer en una base de datos o archivo también)\n",
    "usuarios = {\n",
    "    \"Administrador\": \"contraseña1\",\n",
    "    \"Cliente\": \"contraseña2\",\n",
    "    \"Provedor\": \"contraseña3\"\n",
    "}\n",
    "\n",
    "# Pedir al usuario que ingrese su nombre de usuario y contraseña\n",
    "usuario = input(\"Por favor ingresa tu usuario: \")\n",
    "contraseña = input(\"Ingresa tu contraseña: \")\n",
    "\n",
    "# Verificar si el usuario y la contraseña son correctos\n",
    "if usuario in usuarios and usuarios[usuario] == contraseña:\n",
    "    print(\"Bienvenido,\", usuario)\n",
    "else:\n",
    "    print(\"Nombre de usuario o contraseña incorrectos\")"
   ]
  },
  {
   "cell_type": "code",
   "execution_count": 7,
   "id": "c955b1fb",
   "metadata": {},
   "outputs": [
    {
     "name": "stdout",
     "output_type": "stream",
     "text": [
      "Seleccione una opción:\n",
      "1. Cambio de clave correo\n",
      "2. Solicitudes VPN\n",
      "3. Cambio de periferico\n",
      "4. Instalacion de programas y/o aplicativos\n",
      "Ingrese el número de la opción seleccionada: 2\n",
      "Ha seleccionado: Solicitudes VPN\n"
     ]
    }
   ],
   "source": [
    "opciones = [\"Cambio de clave correo\", \"Solicitudes VPN\", \"Cambio de periferico\", \"Instalacion de programas y/o aplicativos\"]\n",
    "\n",
    "print(\"Seleccione una opción:\")\n",
    "for i in range(len(opciones)):\n",
    "    print(f\"{i+1}. {opciones[i]}\")\n",
    "\n",
    "opcion_seleccionada = None\n",
    "while opcion_seleccionada is None:\n",
    "    try:\n",
    "        seleccion = int(input(\"Ingrese el número de la opción seleccionada: \"))\n",
    "        if seleccion < 1 or seleccion > len(opciones):\n",
    "            raise ValueError\n",
    "        opcion_seleccionada = opciones[seleccion-1]\n",
    "    except ValueError:\n",
    "        print(\"Error: Seleccione una opción válida.\")\n",
    "\n",
    "print(f\"Ha seleccionado: {opcion_seleccionada}\")"
   ]
  },
  {
   "attachments": {},
   "cell_type": "markdown",
   "id": "df345030",
   "metadata": {},
   "source": [
    "# Modulo clientes"
   ]
  },
  {
   "cell_type": "code",
   "execution_count": 3,
   "id": "4ef43868",
   "metadata": {},
   "outputs": [
    {
     "name": "stdout",
     "output_type": "stream",
     "text": [
      "Seleccione el caso a solucionar: 4\n",
      "En caso de no estar en la lista indique: otro cancel\n",
      "Se seleccionó el caso cancel\n"
     ]
    }
   ],
   "source": [
    "\n",
    "if usuario in usuarios and usuarios[usuario] == contraseña:\n",
    "    solicitud = input(\"Seleccione el caso a solucionar: \")\n",
    "    solicitud2 = input(\"En caso de no estar en la lista indique: otro \")\n",
    "    if solicitud2 == 'otro':\n",
    "        print('Indique el tipo de caso a crear')\n",
    "        \n",
    "    elif solicitud2 == 'No':\n",
    "        # Aquí podrías poner alguna acción si el usuario responde 'No'\n",
    "        print(\"No se seleccionó ningún caso\")\n",
    "    else:\n",
    "        # Aquí podrías poner alguna acción si el usuario selecciona un caso de la lista\n",
    "        print(\"Se seleccionó el caso\", solicitud2)\n",
    "else:\n",
    "    print(\"Nombre de usuario o contraseña incorrectos\")"
   ]
  },
  {
   "cell_type": "code",
   "execution_count": null,
   "id": "076d5419",
   "metadata": {},
   "outputs": [],
   "source": [
    "if solicitud2 == 'otro'\n",
    "    print('Indique cual es su solicitud')\n",
    "    #Almacena las respuestas otro\n",
    "    df = df['otro']\n",
    "if solicitud2 == 1\n",
    "    correo = input(\"Ingrese su correo corporativo: \")\n",
    "    Nombre = input('Ingrese su nombre completo')\n",
    "    cedula = input('Ingrese su numero de documento')\n",
    "    \n",
    "    #Almacena las respuestas otro\n",
    "    df = df['otro']    "
   ]
  },
  {
   "cell_type": "code",
   "execution_count": null,
   "id": "43e46b49",
   "metadata": {},
   "outputs": [],
   "source": []
  }
 ],
 "metadata": {
  "kernelspec": {
   "display_name": "Python 3 (ipykernel)",
   "language": "python",
   "name": "python3"
  },
  "language_info": {
   "codemirror_mode": {
    "name": "ipython",
    "version": 3
   },
   "file_extension": ".py",
   "mimetype": "text/x-python",
   "name": "python",
   "nbconvert_exporter": "python",
   "pygments_lexer": "ipython3",
   "version": "3.9.16"
  }
 },
 "nbformat": 4,
 "nbformat_minor": 5
}
